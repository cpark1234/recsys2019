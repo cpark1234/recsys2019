{
 "cells": [
  {
   "cell_type": "code",
   "execution_count": 58,
   "metadata": {},
   "outputs": [],
   "source": [
    "import numpy as np\n",
    "import tensorflow as tf\n",
    "data_num = 10\n",
    "train_embedding_dim= 4377\n",
    "item_embedding_dim = 157\n",
    "latent_dim = 100\n",
    "learning_rate = 1e-3\n",
    "session_data = np.zeros((data_num,train_embedding_dim))\n",
    "#positive_label = np.zeros((data_num, item_embedding_dim))\n",
    "#negative_labels = np.zeros((data_num, item_embedding_dim))\n",
    "#negative_number = np.zeros((data_num, 1))\n",
    "item = np.zeros((3,4)) # 임시"
   ]
  },
  {
   "cell_type": "code",
   "execution_count": 24,
   "metadata": {},
   "outputs": [],
   "source": [
    "tf.reset_default_graph()\n",
    "session_feature = tf.get_variable(\"session_feature\", [train_embedding_dim, latent_dim])\n",
    "item_feature = tf.get_variable(\"item_feature\", [item_embedding_dim, latent_dim])\n",
    "session_bias = tf.get_variable(\"session_bias\", [train_embedding_dim])\n",
    "item_bias = tf.get_variable(\"item_bias\", [item_embedding_dim])"
   ]
  },
  {
   "cell_type": "code",
   "execution_count": 50,
   "metadata": {},
   "outputs": [],
   "source": [
    "train_data = tf.placeholder(tf.float32, shape=(train_embedding_dim))\n",
    "train_items  = tf.placeholder(tf.float32, shape=(3, item_embedding_dim))\n",
    "#tf.placeholder(tf.float32, shape=(None, item_embedding_dim))"
   ]
  },
  {
   "cell_type": "code",
   "execution_count": 51,
   "metadata": {},
   "outputs": [
    {
     "name": "stdout",
     "output_type": "stream",
     "text": [
      "Tensor(\"MatMul_81:0\", shape=(3, 1), dtype=float32)\n",
      "Tensor(\"MatMul_82:0\", shape=(1, 1), dtype=float32)\n",
      "Tensor(\"MatMul_83:0\", shape=(3, 1), dtype=float32)\n",
      "Tensor(\"add_19:0\", shape=(?, 1), dtype=float32)\n"
     ]
    }
   ],
   "source": [
    "print(tf.matmul(tf.matmul(train_items, item_feature), tf.transpose(tf.matmul(tf.expand_dims(train_data,0), session_feature))))\n",
    "#x =  tf.matmul(tf.matmul(train_items, item_feature), tf.transpose(tf.matmul(tf.expand_dims(train_data,0), session_feature)))\n",
    "print(tf.matmul(tf.expand_dims(train_data,0), tf.expand_dims(session_bias,1)))\n",
    "print(tf.matmul(train_items, tf.expand_dims(item_bias,1)))\n",
    "\n",
    "scores = tf.matmul(tf.matmul(train_items, item_feature), tf.transpose(tf.matmul(tf.expand_dims(train_data,0), session_feature))) +  \\\n",
    "tf.matmul(tf.expand_dims(train_data,0), tf.expand_dims(session_bias,1)) +\\\n",
    "tf.matmul(train_items, tf.expand_dims(item_bias,1))\n",
    "print(positive_score)"
   ]
  },
  {
   "cell_type": "code",
   "execution_count": 57,
   "metadata": {},
   "outputs": [],
   "source": [
    "loss = -tf.reduce_mean(tf.math.log(tf.sigmoid(scores[0] - scores)))"
   ]
  },
  {
   "cell_type": "code",
   "execution_count": 59,
   "metadata": {},
   "outputs": [],
   "source": [
    "optimizer = tf.train.AdamOptimizer(learning_rate).minimize(loss)"
   ]
  },
  {
   "cell_type": "code",
   "execution_count": 54,
   "metadata": {},
   "outputs": [
    {
     "data": {
      "text/plain": [
       "3"
      ]
     },
     "execution_count": 54,
     "metadata": {},
     "output_type": "execute_result"
    }
   ],
   "source": [
    "config = tf.ConfigProto()\n",
    "config.gpu_options.allow_growth = True\n",
    "all_data_number = len(session_data)\n",
    "with tf.Session(config=config) as sess:\n",
    "    \n",
    "    for i in range(all_data_number)\n",
    "        batch_data = session_data[i]\n",
    "        batch_items = item[i]\n",
    "        sess.run(loss, feed_dict = {train_data : batch_data, train_items : batch_items})"
   ]
  },
  {
   "cell_type": "code",
   "execution_count": 56,
   "metadata": {},
   "outputs": [
    {
     "data": {
      "text/plain": [
       "array([ 0, -1, -2], dtype=int32)"
      ]
     },
     "execution_count": 56,
     "metadata": {},
     "output_type": "execute_result"
    }
   ],
   "source": [
    "x = tf.constant([3])\n",
    "y = tf.constant([3,4,5])\n",
    "z= x-y\n",
    "sess.run(z)"
   ]
  },
  {
   "cell_type": "code",
   "execution_count": null,
   "metadata": {},
   "outputs": [],
   "source": []
  }
 ],
 "metadata": {
  "kernelspec": {
   "display_name": "Python 3",
   "language": "python",
   "name": "python3"
  },
  "language_info": {
   "codemirror_mode": {
    "name": "ipython",
    "version": 3
   },
   "file_extension": ".py",
   "mimetype": "text/x-python",
   "name": "python",
   "nbconvert_exporter": "python",
   "pygments_lexer": "ipython3",
   "version": "3.6.7"
  }
 },
 "nbformat": 4,
 "nbformat_minor": 2
}
