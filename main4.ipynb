{
 "cells": [
  {
   "cell_type": "code",
   "execution_count": 1,
   "metadata": {},
   "outputs": [],
   "source": [
    "import tensorflow as tf\n",
    "import numpy as np\n",
    "\n",
    "# tf.enable_eager_execution()\n",
    "import os\n",
    "os.environ[\"CUDA_DEVICE_ORDER\"]=\"PCI_BUS_ID\"   \n",
    "os.environ[\"CUDA_VISIBLE_DEVICES\"]=\"0\""
   ]
  },
  {
   "cell_type": "code",
   "execution_count": 2,
   "metadata": {},
   "outputs": [],
   "source": [
    "impression_embed_size = 50 # 853,540개 \n",
    "poi_embed_size = 50      # 13,352개\n",
    "filter_embed_size = 50   # 208개\n",
    "platform_embed_size = 5       # 55개\n",
    "city_embed_size = 50          # 34,752개\n",
    "sort_embed_size = 50 #interaction 빼고 one-hot\n",
    "device_embed_size = 3 # mobile, desktop, tablet one-hot\n",
    "\n",
    "rnn_input_size = impression_embed_size + 5 # action 5개로 통합 후 one-hot \n",
    "\n",
    "#LSTM\n",
    "hidden_state_size = 64"
   ]
  },
  {
   "cell_type": "code",
   "execution_count": 3,
   "metadata": {},
   "outputs": [],
   "source": [
    "# Parameters\n",
    "learning_rate = 0.01\n",
    "seq_length = 10\n",
    "num_epoch = 10\n",
    "batch_size = 1\n",
    "\n",
    "input_size = 100 # TBD"
   ]
  },
  {
   "cell_type": "code",
   "execution_count": 4,
   "metadata": {},
   "outputs": [],
   "source": [
    "import pandas as pd\n",
    "import functions as f\n",
    "from collections import Counter"
   ]
  },
  {
   "cell_type": "code",
   "execution_count": 5,
   "metadata": {},
   "outputs": [],
   "source": [
    "train_df = pd.read_csv('./train.csv')\n",
    "test_df = pd.read_csv('./test.csv')\n",
    "meta_df = pd.read_csv('./item_metadata.csv')\n",
    "submit_df = pd.read_csv('./submission_popular.csv')\n",
    "\n",
    "popular_df = f.get_popularity(train_df)"
   ]
  },
  {
   "cell_type": "code",
   "execution_count": 6,
   "metadata": {},
   "outputs": [
    {
     "data": {
      "text/plain": [
       "'\\npoi_embedding = tf.get_variable(\"poi_embedding\", [len(poi_idx), poi_embed_size])\\nimpression_embedding = tf.get_variable(\"impression_embedding\", [len(impressions_idx), impression_embed_size])\\ncity_embedding = tf.get_variable(\"city_embedding\", [len(city_idx), city_embed_size])\\nplatform_embedding = tf.get_variable(\"platform_embedding\", [len(platform_idx), platform_embed_size])\\nfilter_embedding = tf.get_variable(\"filter_embedding\", [len(filter_idx), filter_embed_size])\\n'"
      ]
     },
     "execution_count": 6,
     "metadata": {},
     "output_type": "execute_result"
    }
   ],
   "source": [
    "poi_idx = np.load('./npy/poi_names.npy', allow_pickle=True)\n",
    "poi_idx = list(poi_idx)\n",
    "impressions_idx = np.load('./npy/impressions_index.npy', allow_pickle=True)\n",
    "impressions_idx = list(impressions_idx)\n",
    "city_idx = np.load('./npy/city_names.npy', allow_pickle=True)\n",
    "city_idx = list(city_idx)\n",
    "platform_idx = np.load('./npy/platform_names.npy', allow_pickle=True)\n",
    "platform_idx = list(platform_idx)\n",
    "filter_idx = np.load('./npy/filter_merged.npy', allow_pickle=True)\n",
    "filter_idx = list(filter_idx)\n",
    "action_idx = np.load('./npy/action_type_names.npy', allow_pickle=True)\n",
    "action_idx = list(action_idx)\n",
    "\n",
    "sort_order_idx = np.load('./npy/sorting_names.npy', allow_pickle=True)\n",
    "sort_order_idx = list(sort_order_idx)\n",
    "device_idx = np.load('./npy/device_names.npy', allow_pickle=True)\n",
    "device_idx = list(device_idx)\n",
    "'''\n",
    "poi_embedding = tf.get_variable(\"poi_embedding\", [len(poi_idx), poi_embed_size])\n",
    "impression_embedding = tf.get_variable(\"impression_embedding\", [len(impressions_idx), impression_embed_size])\n",
    "city_embedding = tf.get_variable(\"city_embedding\", [len(city_idx), city_embed_size])\n",
    "platform_embedding = tf.get_variable(\"platform_embedding\", [len(platform_idx), platform_embed_size])\n",
    "filter_embedding = tf.get_variable(\"filter_embedding\", [len(filter_idx), filter_embed_size])\n",
    "'''"
   ]
  },
  {
   "cell_type": "code",
   "execution_count": 7,
   "metadata": {},
   "outputs": [],
   "source": [
    "train_label = train_df[(train_df[\"action_type\"] == \"clickout item\")]     #train_label : (1,586,586, 12)\n",
    "batch_indexes = np.random.permutation(len(train_label))"
   ]
  },
  {
   "cell_type": "code",
   "execution_count": 8,
   "metadata": {},
   "outputs": [],
   "source": [
    "def embedding_function(domain, key):\n",
    "    \n",
    "    embedded_vector = tf.zeros([impression_embed_size])\n",
    "    if domain == action_idx[9]:  #'poi'\n",
    "        if key in poi_idx:\n",
    "            idx = poi_idx.index(key)\n",
    "        else:\n",
    "            idx = -1\n",
    "        embedded_vector = tf.nn.embedding_lookup(poi_embedding, idx)\n",
    "        \n",
    "    elif (domain == action_idx[1])|(domain == action_idx[3])|(domain == action_idx[4])|(domain == action_idx[5])\\\n",
    "    |(domain == action_idx[6])|(domain == action_idx[8]):  #impression\n",
    "        if key in impressions_idx:\n",
    "            idx = impressions_idx.index(key)\n",
    "        else:\n",
    "            idx = -1\n",
    "        embedded_vector = tf.nn.embedding_lookup(impression_embedding, idx)\n",
    "    \n",
    "    elif domain == action_idx[7]: # search for destination, 'city'\n",
    "        if key in city_idx:\n",
    "            idx = city_idx.index(key)\n",
    "        else:\n",
    "            idx = -1\n",
    "        embedded_vector = tf.nn.embedding_lookup(city_embedding, idx)\n",
    "\n",
    "    elif domain == 'platform':\n",
    "        if key in platform_idx:\n",
    "            idx = platform_idx.index(key)\n",
    "        else:\n",
    "            idx = -1\n",
    "        embedded_vector = tf.nn.embedding_lookup(platform_embedding, idx)\n",
    "        \n",
    "    elif domain ==action_idx[2]:  #'filter'\n",
    "        if key in filter_idx:\n",
    "            idx = filter_idx.index(key)\n",
    "        else:\n",
    "            idx = -1\n",
    "        embedded_vector = tf.nn.embedding_lookup(filter_embedding, idx)\n",
    "        \n",
    "    elif domain ==action_idx[0]:  #sorting\n",
    "        embedded_vector = np.zeros([sort_embed_size])\n",
    "        embedded_vector[sort_order_idx.index(key)] = 1\n",
    "        embedded_vector = tf.convert_to_tensor(embedded_vector, dtype=tf.float32)\n",
    "        \n",
    "    elif domain =='device':\n",
    "        embedded_vector = np.zeros([device_embed_size])\n",
    "#         embedded_vector[device_idx.index(key)] = 1\n",
    "        embedded_vector = tf.convert_to_tensor(embedded_vector, dtype=tf.float32)\n",
    "        \n",
    "    return embedded_vector"
   ]
  },
  {
   "cell_type": "code",
   "execution_count": 9,
   "metadata": {},
   "outputs": [
    {
     "data": {
      "text/plain": [
       "['change of sort order',\n",
       " 'clickout item',\n",
       " 'filter selection',\n",
       " 'interaction item deals',\n",
       " 'interaction item image',\n",
       " 'interaction item info',\n",
       " 'interaction item rating',\n",
       " 'search for destination',\n",
       " 'search for item',\n",
       " 'search for poi']"
      ]
     },
     "execution_count": 9,
     "metadata": {},
     "output_type": "execute_result"
    }
   ],
   "source": [
    "action_idx"
   ]
  },
  {
   "cell_type": "code",
   "execution_count": 10,
   "metadata": {},
   "outputs": [],
   "source": [
    "def action_embedding(action):\n",
    "    if action == action_idx[0]:\n",
    "        embed = tf.one_hot(0, 5)\n",
    "    elif action == action_idx[2]:\n",
    "        embed = tf.one_hot(1, 5)\n",
    "    elif action == action_idx[7]:\n",
    "        embed = tf.one_hot(2, 5)\n",
    "    elif action == action_idx[9]:\n",
    "        embed = tf.one_hot(3, 5)\n",
    "    else:\n",
    "        embed = tf.one_hot(4, 5)\n",
    "    return embed"
   ]
  },
  {
   "cell_type": "code",
   "execution_count": 11,
   "metadata": {},
   "outputs": [],
   "source": [
    "INDEX_user_id =0                                                 \n",
    "INDEX_session_id =1                                            \n",
    "INDEX_timestamp =2                                                \n",
    "INDEX_step        =3                                                       \n",
    "INDEX_action_type =4                                       \n",
    "INDEX_reference   =5                                               \n",
    "INDEX_platform    =6                                                \n",
    "INDEX_city        =7                                          \n",
    "INDEX_device      =8                                                 \n",
    "INDEX_current_filters=9                                                \n",
    "INDEX_impressions    =10   \n",
    "INDEX_prices         =11    "
   ]
  },
  {
   "cell_type": "code",
   "execution_count": 12,
   "metadata": {},
   "outputs": [],
   "source": [
    "def getSequenceData(act_list, ref_list, seq_length):\n",
    "    embed_total = tf.zeros([rnn_input_size])  #추후 1 -> batch size 변경\n",
    "    embed_total = tf.reshape(embed_total, [1, rnn_input_size])\n",
    "    for step in range(np.shape(act_list)[1]): \n",
    "        embed_ref = embedding_function(act_list[step], ref_list[step])\n",
    "        embed_action = action_embedding(act_list[step])\n",
    "        \n",
    "        embed_single_action = tf.concat((embed_action, embed_ref), axis=0)\n",
    "        embed_total = tf.concat((embed_total, tf.reshape(embed_single_action, [1,55])), axis=0)\n",
    "        \n",
    "    return embed_total[1:,:]"
   ]
  },
  {
   "cell_type": "code",
   "execution_count": 13,
   "metadata": {},
   "outputs": [],
   "source": [
    "def getActionList(user_label, seq_length):\n",
    "    step = user_label['step']\n",
    "    if step > seq_length+1:\n",
    "        step = seq_length+1\n",
    "    label_point = user_label.name\n",
    "    history_list = train_df[label_point-step+1:label_point]\n",
    "    \n",
    "    act_list=[]\n",
    "    ref_list=[]\n",
    "    for idx in range(len(history_list)):\n",
    "        act_list.append(history_list.iloc[idx]['action_type'])\n",
    "        ref_list.append(history_list.iloc[idx]['reference'])\n",
    "    if len(act_list) < seq_length:\n",
    "        act_list = np.concatenate((np.zeros([seq_length-len(act_list)]), act_list))\n",
    "        ref_list = np.concatenate((np.zeros([seq_length-len(ref_list)]), ref_list))\n",
    "    \n",
    "    return np.reshape(act_list, [-1, seq_length]), np.reshape(ref_list, [-1, seq_length])"
   ]
  },
  {
   "cell_type": "code",
   "execution_count": 14,
   "metadata": {},
   "outputs": [],
   "source": [
    "def recurrent_neural_network_model(Act_list, Ref_list):\n",
    "    \n",
    "    XX = getSequenceData(Act_list, Ref_list, seq_length)\n",
    "    XX = tf.reshape(XX, [batch_size,seq_length, rnn_input_size])\n",
    "    lstm_cell = tf.nn.rnn_cell.BasicLSTMCell(hidden_state_size)    \n",
    "    _ , states = tf.nn.dynamic_rnn(lstm_cell, XX, dtype=tf.float32)   \n",
    "    \n",
    "    return states"
   ]
  },
  {
   "cell_type": "code",
   "execution_count": 79,
   "metadata": {},
   "outputs": [],
   "source": [
    "# Define the neural network\n",
    "tf.reset_default_graph()\n",
    "Act_list = tf.placeholder(tf.string, [None, seq_length])\n",
    "Ref_list = tf.placeholder(tf.string, [None, seq_length])\n",
    "\n",
    "Train_Label_df = tf.placeholder(tf.string, [None, 12])\n",
    "Target_impression = tf.placeholder(tf.int32, [None, 1])\n",
    "Y_label = tf.placeholder(tf.int32, [None, 1])\n",
    "\n",
    "poi_embedding = tf.get_variable(\"poi_embedding\", [len(poi_idx), poi_embed_size])\n",
    "impression_embedding = tf.get_variable(\"impression_embedding\", [len(impressions_idx), impression_embed_size])\n",
    "city_embedding = tf.get_variable(\"city_embedding\", [len(city_idx), city_embed_size])\n",
    "platform_embedding = tf.get_variable(\"platform_embedding\", [len(platform_idx), platform_embed_size])\n",
    "filter_embedding = tf.get_variable(\"filter_embedding\", [len(filter_idx), filter_embed_size])"
   ]
  },
  {
   "cell_type": "code",
   "execution_count": 80,
   "metadata": {},
   "outputs": [],
   "source": [
    "def dense_net(Act_list, Ref_list, train_label, target_impression):\n",
    "    \n",
    "    XX = getSequenceData(Act_list, Ref_list, seq_length)\n",
    "    XX = tf.reshape(XX, [batch_size,seq_length, rnn_input_size])\n",
    "    lstm_cell = tf.nn.rnn_cell.BasicLSTMCell(hidden_state_size)    \n",
    "    _ , states = tf.nn.dynamic_rnn(lstm_cell, XX, dtype=tf.float32)   \n",
    "    context = tf.reshape(states[0], [64])\n",
    "        #platform\n",
    "    \n",
    "    if target_impression in impressions_idx:\n",
    "        idx = impressions_idx.index(key)\n",
    "    else:\n",
    "        idx = -1\n",
    "    target_impression_embed = tf.nn.embedding_lookup(impression_embedding, idx)\n",
    "    \n",
    "        \n",
    "    #platform_embed = embedding_function('platform', train_label[-1,INDEX_platform])\n",
    "    key = train_label[-1,INDEX_platform]\n",
    "    if key in platform_idx:\n",
    "        idx = platform_idx.index(key)\n",
    "    else:\n",
    "        idx = 0\n",
    "    platform_embed = tf.nn.embedding_lookup(platform_embedding, idx)\n",
    "    #city, search for destination 해서 검색해봤던 city들\n",
    "    #city_embed = embedding_function('city', train_label[-1,INDEX_city])\n",
    "    key = train_label[-1,INDEX_city]\n",
    "    if key in city_idx:\n",
    "        idx = city_idx.index(key)\n",
    "    else:\n",
    "        idx = 0\n",
    "    city_embed = tf.nn.embedding_lookup(city_embedding, idx)\n",
    "    #device\n",
    "    #device_embed = embedding_function('device', train_label[-1,INDEX_device])\n",
    "    key = train_label[-1,INDEX_device]\n",
    "    device_embed = np.zeros([device_embed_size])\n",
    "#         embedded_vector[device_idx.index(key)] = 1\n",
    "    device_embed= tf.convert_to_tensor(device_embed, dtype=tf.float32)\n",
    "    #current_filter\n",
    "    \n",
    "    filter_b = train_label[-1,INDEX_current_filters]\n",
    "    if pd.isna(filter_b):\n",
    "        final_embed_current_filter = tf.zeros(filter_embed_size)\n",
    "    else:\n",
    "        final_embed_current_filter = tf.zeros(filter_embed_size)\n",
    "#         filters_b = f.string_to_array(filter_b)\n",
    "#         final_embed_current_filter = getWeightedAverage('filter', filters_b , filter_embed_size)\n",
    "    \n",
    "#     print(\"context\", np.shape(context))\n",
    "#     print(\"platform_embed\", np.shape(platform_embed))\n",
    "#     print(\"city_embed\", np.shape(city_embed))\n",
    "#     print(\"device_embed\", np.shape(device_embed))\n",
    "    \n",
    "    XX_input= tf.concat((context, platform_embed, city_embed, device_embed, target_impression_embed),axis=0)\n",
    "    \n",
    "    XX_input = tf.reshape(XX_input, [-1, 172])\n",
    "    layer_1 = tf.layers.dense(XX_input, 10,activation=tf.nn.relu)\n",
    "    layer_2 = tf.layers.dense(layer_1, 10,activation=tf.nn.relu)\n",
    "    layer_3 = tf.layers.dense(layer_2, 10, activation=tf.nn.relu)\n",
    "    out_layer = tf.layers.dense(layer_3, 1, activation=tf.nn.sigmoid)\n",
    "    return out_layer"
   ]
  },
  {
   "cell_type": "code",
   "execution_count": 38,
   "metadata": {
    "scrolled": true
   },
   "outputs": [],
   "source": [
    "output = dense_net(Act_list, Ref_list, Train_Label_df)"
   ]
  },
  {
   "cell_type": "code",
   "execution_count": 39,
   "metadata": {},
   "outputs": [
    {
     "name": "stdout",
     "output_type": "stream",
     "text": [
      "WARNING:tensorflow:From /home/ecube_server2/.conda/envs/recsys/lib/python3.6/site-packages/tensorflow/python/ops/losses/losses_impl.py:209: to_float (from tensorflow.python.ops.math_ops) is deprecated and will be removed in a future version.\n",
      "Instructions for updating:\n",
      "Use tf.cast instead.\n"
     ]
    }
   ],
   "source": [
    "loss = tf.losses.sigmoid_cross_entropy(Y_label, output)"
   ]
  },
  {
   "cell_type": "code",
   "execution_count": 41,
   "metadata": {},
   "outputs": [
    {
     "name": "stdout",
     "output_type": "stream",
     "text": [
      "WARNING:tensorflow:From /home/ecube_server2/.conda/envs/recsys/lib/python3.6/site-packages/tensorflow/python/ops/array_grad.py:425: to_int32 (from tensorflow.python.ops.math_ops) is deprecated and will be removed in a future version.\n",
      "Instructions for updating:\n",
      "Use tf.cast instead.\n"
     ]
    }
   ],
   "source": [
    "train = tf.train.AdamOptimizer(learning_rate=learning_rate).minimize(loss)"
   ]
  },
  {
   "cell_type": "code",
   "execution_count": null,
   "metadata": {},
   "outputs": [],
   "source": []
  },
  {
   "cell_type": "code",
   "execution_count": 42,
   "metadata": {},
   "outputs": [],
   "source": [
    "sess = tf.Session()"
   ]
  },
  {
   "cell_type": "code",
   "execution_count": 43,
   "metadata": {},
   "outputs": [],
   "source": [
    "sess.run(tf.global_variables_initializer())"
   ]
  },
  {
   "cell_type": "code",
   "execution_count": 88,
   "metadata": {},
   "outputs": [
    {
     "ename": "TypeError",
     "evalue": "Cannot interpret feed_dict key as Tensor: Tensor Tensor(\"Placeholder:0\", shape=(?, 10), dtype=string) is not an element of this graph.",
     "output_type": "error",
     "traceback": [
      "\u001b[0;31m---------------------------------------------------------------------------\u001b[0m",
      "\u001b[0;31mValueError\u001b[0m                                Traceback (most recent call last)",
      "\u001b[0;32m~/.conda/envs/recsys/lib/python3.6/site-packages/tensorflow/python/client/session.py\u001b[0m in \u001b[0;36m_run\u001b[0;34m(self, handle, fetches, feed_dict, options, run_metadata)\u001b[0m\n\u001b[1;32m   1091\u001b[0m             subfeed_t = self.graph.as_graph_element(\n\u001b[0;32m-> 1092\u001b[0;31m                 subfeed, allow_tensor=True, allow_operation=False)\n\u001b[0m\u001b[1;32m   1093\u001b[0m           \u001b[0;32mexcept\u001b[0m \u001b[0mException\u001b[0m \u001b[0;32mas\u001b[0m \u001b[0me\u001b[0m\u001b[0;34m:\u001b[0m\u001b[0;34m\u001b[0m\u001b[0;34m\u001b[0m\u001b[0m\n",
      "\u001b[0;32m~/.conda/envs/recsys/lib/python3.6/site-packages/tensorflow/python/framework/ops.py\u001b[0m in \u001b[0;36mas_graph_element\u001b[0;34m(self, obj, allow_tensor, allow_operation)\u001b[0m\n\u001b[1;32m   3477\u001b[0m     \u001b[0;32mwith\u001b[0m \u001b[0mself\u001b[0m\u001b[0;34m.\u001b[0m\u001b[0m_lock\u001b[0m\u001b[0;34m:\u001b[0m\u001b[0;34m\u001b[0m\u001b[0;34m\u001b[0m\u001b[0m\n\u001b[0;32m-> 3478\u001b[0;31m       \u001b[0;32mreturn\u001b[0m \u001b[0mself\u001b[0m\u001b[0;34m.\u001b[0m\u001b[0m_as_graph_element_locked\u001b[0m\u001b[0;34m(\u001b[0m\u001b[0mobj\u001b[0m\u001b[0;34m,\u001b[0m \u001b[0mallow_tensor\u001b[0m\u001b[0;34m,\u001b[0m \u001b[0mallow_operation\u001b[0m\u001b[0;34m)\u001b[0m\u001b[0;34m\u001b[0m\u001b[0;34m\u001b[0m\u001b[0m\n\u001b[0m\u001b[1;32m   3479\u001b[0m \u001b[0;34m\u001b[0m\u001b[0m\n",
      "\u001b[0;32m~/.conda/envs/recsys/lib/python3.6/site-packages/tensorflow/python/framework/ops.py\u001b[0m in \u001b[0;36m_as_graph_element_locked\u001b[0;34m(self, obj, allow_tensor, allow_operation)\u001b[0m\n\u001b[1;32m   3556\u001b[0m       \u001b[0;32mif\u001b[0m \u001b[0mobj\u001b[0m\u001b[0;34m.\u001b[0m\u001b[0mgraph\u001b[0m \u001b[0;32mis\u001b[0m \u001b[0;32mnot\u001b[0m \u001b[0mself\u001b[0m\u001b[0;34m:\u001b[0m\u001b[0;34m\u001b[0m\u001b[0;34m\u001b[0m\u001b[0m\n\u001b[0;32m-> 3557\u001b[0;31m         \u001b[0;32mraise\u001b[0m \u001b[0mValueError\u001b[0m\u001b[0;34m(\u001b[0m\u001b[0;34m\"Tensor %s is not an element of this graph.\"\u001b[0m \u001b[0;34m%\u001b[0m \u001b[0mobj\u001b[0m\u001b[0;34m)\u001b[0m\u001b[0;34m\u001b[0m\u001b[0;34m\u001b[0m\u001b[0m\n\u001b[0m\u001b[1;32m   3558\u001b[0m       \u001b[0;32mreturn\u001b[0m \u001b[0mobj\u001b[0m\u001b[0;34m\u001b[0m\u001b[0;34m\u001b[0m\u001b[0m\n",
      "\u001b[0;31mValueError\u001b[0m: Tensor Tensor(\"Placeholder:0\", shape=(?, 10), dtype=string) is not an element of this graph.",
      "\nDuring handling of the above exception, another exception occurred:\n",
      "\u001b[0;31mTypeError\u001b[0m                                 Traceback (most recent call last)",
      "\u001b[0;32m<ipython-input-88-89229457acd0>\u001b[0m in \u001b[0;36m<module>\u001b[0;34m\u001b[0m\n\u001b[1;32m     25\u001b[0m         \u001b[0;32mfor\u001b[0m \u001b[0mh\u001b[0m \u001b[0;32min\u001b[0m \u001b[0mrange\u001b[0m\u001b[0;34m(\u001b[0m\u001b[0mlen\u001b[0m\u001b[0;34m(\u001b[0m\u001b[0mtrain_candidates\u001b[0m\u001b[0;34m)\u001b[0m\u001b[0;34m)\u001b[0m\u001b[0;34m:\u001b[0m\u001b[0;34m\u001b[0m\u001b[0;34m\u001b[0m\u001b[0m\n\u001b[1;32m     26\u001b[0m             _, loss_val = sess.run([train, loss], feed_dict={Act_list: act_list, Ref_list: ref_list, Train_Label_df: users,\\\n\u001b[0;32m---> 27\u001b[0;31m                                                              Y_label:labels[h], Target_impression: int(train_candidates[h])})\n\u001b[0m\u001b[1;32m     28\u001b[0m             \u001b[0mprint\u001b[0m\u001b[0;34m(\u001b[0m\u001b[0;34m\"loss : \"\u001b[0m\u001b[0;34m,\u001b[0m \u001b[0mloss_val\u001b[0m\u001b[0;34m)\u001b[0m\u001b[0;34m\u001b[0m\u001b[0;34m\u001b[0m\u001b[0m\n\u001b[1;32m     29\u001b[0m \u001b[0;34m\u001b[0m\u001b[0m\n",
      "\u001b[0;32m~/.conda/envs/recsys/lib/python3.6/site-packages/tensorflow/python/client/session.py\u001b[0m in \u001b[0;36mrun\u001b[0;34m(self, fetches, feed_dict, options, run_metadata)\u001b[0m\n\u001b[1;32m    927\u001b[0m     \u001b[0;32mtry\u001b[0m\u001b[0;34m:\u001b[0m\u001b[0;34m\u001b[0m\u001b[0;34m\u001b[0m\u001b[0m\n\u001b[1;32m    928\u001b[0m       result = self._run(None, fetches, feed_dict, options_ptr,\n\u001b[0;32m--> 929\u001b[0;31m                          run_metadata_ptr)\n\u001b[0m\u001b[1;32m    930\u001b[0m       \u001b[0;32mif\u001b[0m \u001b[0mrun_metadata\u001b[0m\u001b[0;34m:\u001b[0m\u001b[0;34m\u001b[0m\u001b[0;34m\u001b[0m\u001b[0m\n\u001b[1;32m    931\u001b[0m         \u001b[0mproto_data\u001b[0m \u001b[0;34m=\u001b[0m \u001b[0mtf_session\u001b[0m\u001b[0;34m.\u001b[0m\u001b[0mTF_GetBuffer\u001b[0m\u001b[0;34m(\u001b[0m\u001b[0mrun_metadata_ptr\u001b[0m\u001b[0;34m)\u001b[0m\u001b[0;34m\u001b[0m\u001b[0;34m\u001b[0m\u001b[0m\n",
      "\u001b[0;32m~/.conda/envs/recsys/lib/python3.6/site-packages/tensorflow/python/client/session.py\u001b[0m in \u001b[0;36m_run\u001b[0;34m(self, handle, fetches, feed_dict, options, run_metadata)\u001b[0m\n\u001b[1;32m   1093\u001b[0m           \u001b[0;32mexcept\u001b[0m \u001b[0mException\u001b[0m \u001b[0;32mas\u001b[0m \u001b[0me\u001b[0m\u001b[0;34m:\u001b[0m\u001b[0;34m\u001b[0m\u001b[0;34m\u001b[0m\u001b[0m\n\u001b[1;32m   1094\u001b[0m             raise TypeError(\n\u001b[0;32m-> 1095\u001b[0;31m                 'Cannot interpret feed_dict key as Tensor: ' + e.args[0])\n\u001b[0m\u001b[1;32m   1096\u001b[0m \u001b[0;34m\u001b[0m\u001b[0m\n\u001b[1;32m   1097\u001b[0m           \u001b[0;32mif\u001b[0m \u001b[0misinstance\u001b[0m\u001b[0;34m(\u001b[0m\u001b[0msubfeed_val\u001b[0m\u001b[0;34m,\u001b[0m \u001b[0mops\u001b[0m\u001b[0;34m.\u001b[0m\u001b[0mTensor\u001b[0m\u001b[0;34m)\u001b[0m\u001b[0;34m:\u001b[0m\u001b[0;34m\u001b[0m\u001b[0;34m\u001b[0m\u001b[0m\n",
      "\u001b[0;31mTypeError\u001b[0m: Cannot interpret feed_dict key as Tensor: Tensor Tensor(\"Placeholder:0\", shape=(?, 10), dtype=string) is not an element of this graph."
     ]
    }
   ],
   "source": [
    "label_df = None\n",
    "batch_size = 10\n",
    "for k in range(2):\n",
    "    idx = batch_indexes[k*batch_size:(k+1)*batch_size]\n",
    "    label_df = train_label.iloc[idx]\n",
    "    for i in range(2):  # batch size\n",
    "        user_label = label_df.iloc[i]\n",
    "        train_label_batch = user_label[\"reference\"]  # 클릭한 reference number\n",
    "        train_candidates = user_label['impressions']\n",
    "        train_candidates = f.string_to_array(train_candidates)   \n",
    "        \n",
    "        candidate_prices = user_label['prices']\n",
    "        candidate_prices = f.string_to_array(candidate_prices)\n",
    "        candidate_prices = np.array(candidate_prices).astype(int)\n",
    "        \n",
    "        label_index = train_candidates.index(train_label_batch)\n",
    "        labels = np.zeros([len(train_candidates)],dtype=int)\n",
    "        labels[label_index]=1\n",
    "        \n",
    "        act_list, ref_list = getActionList(user_label, seq_length)\n",
    "        user_label = user_label.fillna('Nope')\n",
    "        users = np.array(user_label)\n",
    "        users= np.reshape(users,[-1,12])     \n",
    "        \n",
    "        for h in range(len(train_candidates)):\n",
    "            _, loss_val = sess.run([train, loss], feed_dict={Act_list: act_list, Ref_list: ref_list, Train_Label_df: users,\\\n",
    "                                                             Y_label:labels[h], Target_impression: int(train_candidates[h])})\n",
    "            print(\"loss : \", loss_val)\n",
    "        \n",
    "        \n",
    "        \n",
    "            \n",
    "            \n",
    "        \n",
    "        "
   ]
  },
  {
   "cell_type": "code",
   "execution_count": null,
   "metadata": {},
   "outputs": [],
   "source": []
  },
  {
   "cell_type": "code",
   "execution_count": 89,
   "metadata": {},
   "outputs": [],
   "source": [
    "k=0\n",
    "i=0"
   ]
  },
  {
   "cell_type": "code",
   "execution_count": 90,
   "metadata": {},
   "outputs": [],
   "source": [
    "idx = batch_indexes[k*batch_size:(k+1)*batch_size]\n",
    "label_df = train_label.iloc[idx]"
   ]
  },
  {
   "cell_type": "code",
   "execution_count": 91,
   "metadata": {},
   "outputs": [],
   "source": [
    "        user_label = label_df.iloc[i]\n",
    "        train_label_batch = user_label[\"reference\"]  # 클릭한 reference number\n",
    "        train_candidates = user_label['impressions']\n",
    "        train_candidates = f.string_to_array(train_candidates)   \n",
    "        \n",
    "        candidate_prices = user_label['prices']\n",
    "        candidate_prices = f.string_to_array(candidate_prices)\n",
    "        candidate_prices = np.array(candidate_prices).astype(int)\n",
    "        \n",
    "        label_index = train_candidates.index(train_label_batch)\n",
    "        labels = np.zeros([len(train_candidates)],dtype=int)\n",
    "        labels[label_index]=1\n",
    "        \n",
    "        act_list, ref_list = getActionList(user_label, seq_length)\n",
    "        user_label = user_label.fillna('Nope')\n",
    "        users = np.array(user_label)\n",
    "        users= np.reshape(users,[-1,12])   "
   ]
  },
  {
   "cell_type": "code",
   "execution_count": 92,
   "metadata": {},
   "outputs": [
    {
     "data": {
      "text/plain": [
       "'43835'"
      ]
     },
     "execution_count": 92,
     "metadata": {},
     "output_type": "execute_result"
    }
   ],
   "source": [
    "train_label_batch"
   ]
  },
  {
   "cell_type": "code",
   "execution_count": 93,
   "metadata": {},
   "outputs": [
    {
     "data": {
      "text/plain": [
       "array([['0.0', '0.0', '0.0', '0.0', 'filter selection', 'clickout item',\n",
       "        'filter selection', 'filter selection', 'clickout item',\n",
       "        'clickout item']], dtype='<U32')"
      ]
     },
     "execution_count": 93,
     "metadata": {},
     "output_type": "execute_result"
    }
   ],
   "source": [
    "act_list"
   ]
  },
  {
   "cell_type": "code",
   "execution_count": 94,
   "metadata": {},
   "outputs": [
    {
     "data": {
      "text/plain": [
       "array([['0.0', '0.0', '0.0', '0.0', 'Swimming Pool (Combined Filter)',\n",
       "        '44573', 'Swimming Pool (Combined Filter)', 'Car Park', '44644',\n",
       "        '44644']], dtype='<U32')"
      ]
     },
     "execution_count": 94,
     "metadata": {},
     "output_type": "execute_result"
    }
   ],
   "source": [
    "ref_list"
   ]
  },
  {
   "cell_type": "code",
   "execution_count": 95,
   "metadata": {},
   "outputs": [
    {
     "data": {
      "text/plain": [
       "array([['NA5FFXBGTX5P', '7ee3de02b8f98', 1541354193, 7, 'clickout item',\n",
       "        '43835', 'CA', 'London, Canada', 'mobile', 'Nope',\n",
       "        '43835|44389|1455805|43373|43861|43552|43725|347366|44609|941294|397676|843481|43606|44603|43610|44644|43580|43924|44360|44078|1181148|10572410|43684|44701|44124',\n",
       "        '85|73|96|54|86|113|93|79|94|48|83|80|113|44|57|84|87|57|94|80|83|73|70|50|86']],\n",
       "      dtype=object)"
      ]
     },
     "execution_count": 95,
     "metadata": {},
     "output_type": "execute_result"
    }
   ],
   "source": [
    "users"
   ]
  },
  {
   "cell_type": "code",
   "execution_count": null,
   "metadata": {},
   "outputs": [],
   "source": []
  }
 ],
 "metadata": {
  "kernelspec": {
   "display_name": "Python 3",
   "language": "python",
   "name": "python3"
  },
  "language_info": {
   "codemirror_mode": {
    "name": "ipython",
    "version": 3
   },
   "file_extension": ".py",
   "mimetype": "text/x-python",
   "name": "python",
   "nbconvert_exporter": "python",
   "pygments_lexer": "ipython3",
   "version": "3.6.8"
  }
 },
 "nbformat": 4,
 "nbformat_minor": 2
}
